{
 "cells": [
  {
   "cell_type": "code",
   "execution_count": 1,
   "metadata": {},
   "outputs": [],
   "source": [
    "%load_ext autoreload\n",
    "import os\n",
    "os.chdir(os.path.abspath(os.curdir).replace('notebooks',''))"
   ]
  },
  {
   "cell_type": "code",
   "execution_count": 10,
   "metadata": {},
   "outputs": [],
   "source": [
    "import datetime\n",
    "from tqdm import trange\n",
    "import pandas as pd\n",
    "import matplotlib.pyplot as plt\n",
    "pd.set_option('display.max_colwidth', 120)"
   ]
  },
  {
   "cell_type": "code",
   "execution_count": 3,
   "metadata": {},
   "outputs": [],
   "source": [
    "%autoreload 2\n",
    "\n",
    "from src.database import ElasticTransformers"
   ]
  },
  {
   "cell_type": "code",
   "execution_count": 4,
   "metadata": {},
   "outputs": [],
   "source": [
    "from sentence_transformers import SentenceTransformer\n",
    "\n",
    "bert_embedder = SentenceTransformer('bert-base-nli-mean-tokens')"
   ]
  },
  {
   "cell_type": "code",
   "execution_count": 5,
   "metadata": {},
   "outputs": [],
   "source": [
    "def embed_wrapper(ls):\n",
    "    \"\"\"\n",
    "    Helper function which simplifies the embedding call and helps lading data into elastic easier\n",
    "    \"\"\"\n",
    "    results=bert_embedder.encode(ls, convert_to_tensor=True)\n",
    "    results = [r.tolist() for r in results]\n",
    "    return results\n"
   ]
  },
  {
   "cell_type": "code",
   "execution_count": 29,
   "metadata": {},
   "outputs": [
    {
     "data": {
      "text/plain": [
       "True"
      ]
     },
     "execution_count": 29,
     "metadata": {},
     "output_type": "execute_result"
    }
   ],
   "source": [
    "et=ElasticTransformers(index_name='et-large')\n",
    "et.ping()"
   ]
  },
  {
   "cell_type": "markdown",
   "metadata": {},
   "source": [
    "# Search Experiments\n",
    "\n",
    "To analyse results, I compared top results side by side on a few searches. \n",
    "\n",
    "Approach is to take the top 10 hits, after removing some of the noisy results (duplicates or “headlines” of just one word).\n"
   ]
  },
  {
   "cell_type": "code",
   "execution_count": 20,
   "metadata": {},
   "outputs": [],
   "source": [
    "def select_search_results(df,top_n=10):\n",
    "    # four tokens or more (filtering out some meaningless headlines)\n",
    "    df=df[df.headline_text.apply(lambda x: len(x.split())>4)].copy()\n",
    "    # remove exact duplicates\n",
    "    df=df.groupby('headline_text', as_index=False).first()\n",
    "    df=df.sort_values('_score',ascending=False)\n",
    "    df=df.reset_index(drop=True)\n",
    "    return df.head(top_n)"
   ]
  },
  {
   "cell_type": "code",
   "execution_count": 21,
   "metadata": {},
   "outputs": [
    {
     "name": "stdout",
     "output_type": "stream",
     "text": [
      "KEYWORD SEARCH RESULTS\n"
     ]
    },
    {
     "data": {
      "text/html": [
       "<div>\n",
       "<style scoped>\n",
       "    .dataframe tbody tr th:only-of-type {\n",
       "        vertical-align: middle;\n",
       "    }\n",
       "\n",
       "    .dataframe tbody tr th {\n",
       "        vertical-align: top;\n",
       "    }\n",
       "\n",
       "    .dataframe thead th {\n",
       "        text-align: right;\n",
       "    }\n",
       "</style>\n",
       "<table border=\"1\" class=\"dataframe\">\n",
       "  <thead>\n",
       "    <tr style=\"text-align: right;\">\n",
       "      <th></th>\n",
       "      <th>headline_text</th>\n",
       "      <th>_score</th>\n",
       "    </tr>\n",
       "  </thead>\n",
       "  <tbody>\n",
       "    <tr>\n",
       "      <th>0</th>\n",
       "      <td>cattle producers warned of virus threat</td>\n",
       "      <td>13.311735</td>\n",
       "    </tr>\n",
       "    <tr>\n",
       "      <th>1</th>\n",
       "      <td>public warned of mozzie virus threat</td>\n",
       "      <td>13.311735</td>\n",
       "    </tr>\n",
       "    <tr>\n",
       "      <th>2</th>\n",
       "      <td>expert plays down hendra virus threat</td>\n",
       "      <td>13.295192</td>\n",
       "    </tr>\n",
       "    <tr>\n",
       "      <th>3</th>\n",
       "      <td>residents reminded of mozzie virus threat</td>\n",
       "      <td>13.213888</td>\n",
       "    </tr>\n",
       "    <tr>\n",
       "      <th>4</th>\n",
       "      <td>mozzie virus threat sparks health alert</td>\n",
       "      <td>13.213888</td>\n",
       "    </tr>\n",
       "    <tr>\n",
       "      <th>5</th>\n",
       "      <td>report reveals lower mozzie virus threat</td>\n",
       "      <td>13.213888</td>\n",
       "    </tr>\n",
       "    <tr>\n",
       "      <th>6</th>\n",
       "      <td>hendra virus poses constant threat chief vet</td>\n",
       "      <td>12.498677</td>\n",
       "    </tr>\n",
       "    <tr>\n",
       "      <th>7</th>\n",
       "      <td>hendra like virus identified as potential threat</td>\n",
       "      <td>12.498677</td>\n",
       "    </tr>\n",
       "    <tr>\n",
       "      <th>8</th>\n",
       "      <td>public warned of mossie borne virus threat</td>\n",
       "      <td>12.498677</td>\n",
       "    </tr>\n",
       "    <tr>\n",
       "      <th>9</th>\n",
       "      <td>sunraysia fears watermelon virus threat from nt</td>\n",
       "      <td>12.483357</td>\n",
       "    </tr>\n",
       "  </tbody>\n",
       "</table>\n",
       "</div>"
      ],
      "text/plain": [
       "                                      headline_text     _score\n",
       "0           cattle producers warned of virus threat  13.311735\n",
       "1              public warned of mozzie virus threat  13.311735\n",
       "2             expert plays down hendra virus threat  13.295192\n",
       "3         residents reminded of mozzie virus threat  13.213888\n",
       "4           mozzie virus threat sparks health alert  13.213888\n",
       "5          report reveals lower mozzie virus threat  13.213888\n",
       "6      hendra virus poses constant threat chief vet  12.498677\n",
       "7  hendra like virus identified as potential threat  12.498677\n",
       "8        public warned of mossie borne virus threat  12.498677\n",
       "9   sunraysia fears watermelon virus threat from nt  12.483357"
      ]
     },
     "metadata": {},
     "output_type": "display_data"
    },
    {
     "name": "stdout",
     "output_type": "stream",
     "text": [
      "SEMANTIC SEARCH RESULTS\n"
     ]
    },
    {
     "data": {
      "text/html": [
       "<div>\n",
       "<style scoped>\n",
       "    .dataframe tbody tr th:only-of-type {\n",
       "        vertical-align: middle;\n",
       "    }\n",
       "\n",
       "    .dataframe tbody tr th {\n",
       "        vertical-align: top;\n",
       "    }\n",
       "\n",
       "    .dataframe thead th {\n",
       "        text-align: right;\n",
       "    }\n",
       "</style>\n",
       "<table border=\"1\" class=\"dataframe\">\n",
       "  <thead>\n",
       "    <tr style=\"text-align: right;\">\n",
       "      <th></th>\n",
       "      <th>headline_text</th>\n",
       "      <th>_score</th>\n",
       "    </tr>\n",
       "  </thead>\n",
       "  <tbody>\n",
       "    <tr>\n",
       "      <th>0</th>\n",
       "      <td>hendra like virus identified as potential threat</td>\n",
       "      <td>1.859408</td>\n",
       "    </tr>\n",
       "    <tr>\n",
       "      <th>1</th>\n",
       "      <td>hendra report author warns of virus risk</td>\n",
       "      <td>1.853364</td>\n",
       "    </tr>\n",
       "    <tr>\n",
       "      <th>2</th>\n",
       "      <td>fresh concerns over hendra virus outbreak</td>\n",
       "      <td>1.836927</td>\n",
       "    </tr>\n",
       "    <tr>\n",
       "      <th>3</th>\n",
       "      <td>virus puts giteau in doubt</td>\n",
       "      <td>1.823136</td>\n",
       "    </tr>\n",
       "    <tr>\n",
       "      <th>4</th>\n",
       "      <td>hendra virus case under investigation</td>\n",
       "      <td>1.817768</td>\n",
       "    </tr>\n",
       "    <tr>\n",
       "      <th>5</th>\n",
       "      <td>who highlight dangers of vector borne diseases</td>\n",
       "      <td>1.804388</td>\n",
       "    </tr>\n",
       "    <tr>\n",
       "      <th>6</th>\n",
       "      <td>potentially deadly virus sparks mozzie warning</td>\n",
       "      <td>1.799419</td>\n",
       "    </tr>\n",
       "    <tr>\n",
       "      <th>7</th>\n",
       "      <td>who warns threat from vector borne diseases</td>\n",
       "      <td>1.793783</td>\n",
       "    </tr>\n",
       "    <tr>\n",
       "      <th>8</th>\n",
       "      <td>fears as png diseases spread</td>\n",
       "      <td>1.791913</td>\n",
       "    </tr>\n",
       "    <tr>\n",
       "      <th>9</th>\n",
       "      <td>deadly hendra virus strikes again</td>\n",
       "      <td>1.788590</td>\n",
       "    </tr>\n",
       "  </tbody>\n",
       "</table>\n",
       "</div>"
      ],
      "text/plain": [
       "                                      headline_text    _score\n",
       "0  hendra like virus identified as potential threat  1.859408\n",
       "1          hendra report author warns of virus risk  1.853364\n",
       "2         fresh concerns over hendra virus outbreak  1.836927\n",
       "3                        virus puts giteau in doubt  1.823136\n",
       "4             hendra virus case under investigation  1.817768\n",
       "5    who highlight dangers of vector borne diseases  1.804388\n",
       "6    potentially deadly virus sparks mozzie warning  1.799419\n",
       "7       who warns threat from vector borne diseases  1.793783\n",
       "8                      fears as png diseases spread  1.791913\n",
       "9                 deadly hendra virus strikes again  1.788590"
      ]
     },
     "metadata": {},
     "output_type": "display_data"
    }
   ],
   "source": [
    "query='virus threat'\n",
    "print('KEYWORD SEARCH RESULTS')\n",
    "df0=et.search(query,'headline_text',type='match',embedder=embed_wrapper, size = 1000)\n",
    "display(select_search_results(df0))\n",
    "print('SEMANTIC SEARCH RESULTS')\n",
    "df1=et.search(query,'headline_text',type='dense',embedder=embed_wrapper, size = 1000)\n",
    "display(select_search_results(df1))\n",
    "\n"
   ]
  },
  {
   "cell_type": "code",
   "execution_count": 31,
   "metadata": {},
   "outputs": [
    {
     "name": "stdout",
     "output_type": "stream",
     "text": [
      "KEYWORD SEARCH RESULTS\n"
     ]
    },
    {
     "data": {
      "text/html": [
       "<div>\n",
       "<style scoped>\n",
       "    .dataframe tbody tr th:only-of-type {\n",
       "        vertical-align: middle;\n",
       "    }\n",
       "\n",
       "    .dataframe tbody tr th {\n",
       "        vertical-align: top;\n",
       "    }\n",
       "\n",
       "    .dataframe thead th {\n",
       "        text-align: right;\n",
       "    }\n",
       "</style>\n",
       "<table border=\"1\" class=\"dataframe\">\n",
       "  <thead>\n",
       "    <tr style=\"text-align: right;\">\n",
       "      <th></th>\n",
       "      <th>headline_text</th>\n",
       "      <th>_score</th>\n",
       "    </tr>\n",
       "  </thead>\n",
       "  <tbody>\n",
       "    <tr>\n",
       "      <th>0</th>\n",
       "      <td>regulatory madness in the banking world</td>\n",
       "      <td>18.955673</td>\n",
       "    </tr>\n",
       "    <tr>\n",
       "      <th>1</th>\n",
       "      <td>china pushes through banking sector reform</td>\n",
       "      <td>14.721983</td>\n",
       "    </tr>\n",
       "    <tr>\n",
       "      <th>2</th>\n",
       "      <td>swan to announce banking reform package</td>\n",
       "      <td>14.582440</td>\n",
       "    </tr>\n",
       "    <tr>\n",
       "      <th>3</th>\n",
       "      <td>open banking more choice or data risk</td>\n",
       "      <td>13.001936</td>\n",
       "    </tr>\n",
       "    <tr>\n",
       "      <th>4</th>\n",
       "      <td>swan wraps up meeting on banking rules reform</td>\n",
       "      <td>12.904054</td>\n",
       "    </tr>\n",
       "    <tr>\n",
       "      <th>5</th>\n",
       "      <td>govt internet regulatory plan criticised</td>\n",
       "      <td>12.000524</td>\n",
       "    </tr>\n",
       "    <tr>\n",
       "      <th>6</th>\n",
       "      <td>regulatory duplication strangling aquaculture development</td>\n",
       "      <td>12.000524</td>\n",
       "    </tr>\n",
       "    <tr>\n",
       "      <th>7</th>\n",
       "      <td>us flags financial regulatory reforms</td>\n",
       "      <td>11.530772</td>\n",
       "    </tr>\n",
       "    <tr>\n",
       "      <th>8</th>\n",
       "      <td>mcconnell a regulatory train wreck</td>\n",
       "      <td>11.530772</td>\n",
       "    </tr>\n",
       "    <tr>\n",
       "      <th>9</th>\n",
       "      <td>billabong rescue package clears regulatory hurdle</td>\n",
       "      <td>11.220221</td>\n",
       "    </tr>\n",
       "  </tbody>\n",
       "</table>\n",
       "</div>"
      ],
      "text/plain": [
       "                                               headline_text     _score\n",
       "0                    regulatory madness in the banking world  18.955673\n",
       "1                 china pushes through banking sector reform  14.721983\n",
       "2                    swan to announce banking reform package  14.582440\n",
       "3                      open banking more choice or data risk  13.001936\n",
       "4              swan wraps up meeting on banking rules reform  12.904054\n",
       "5                   govt internet regulatory plan criticised  12.000524\n",
       "6  regulatory duplication strangling aquaculture development  12.000524\n",
       "7                      us flags financial regulatory reforms  11.530772\n",
       "8                         mcconnell a regulatory train wreck  11.530772\n",
       "9          billabong rescue package clears regulatory hurdle  11.220221"
      ]
     },
     "metadata": {},
     "output_type": "display_data"
    },
    {
     "name": "stdout",
     "output_type": "stream",
     "text": [
      "SEMANTIC SEARCH RESULTS\n"
     ]
    },
    {
     "data": {
      "text/html": [
       "<div>\n",
       "<style scoped>\n",
       "    .dataframe tbody tr th:only-of-type {\n",
       "        vertical-align: middle;\n",
       "    }\n",
       "\n",
       "    .dataframe tbody tr th {\n",
       "        vertical-align: top;\n",
       "    }\n",
       "\n",
       "    .dataframe thead th {\n",
       "        text-align: right;\n",
       "    }\n",
       "</style>\n",
       "<table border=\"1\" class=\"dataframe\">\n",
       "  <thead>\n",
       "    <tr style=\"text-align: right;\">\n",
       "      <th></th>\n",
       "      <th>headline_text</th>\n",
       "      <th>_score</th>\n",
       "    </tr>\n",
       "  </thead>\n",
       "  <tbody>\n",
       "    <tr>\n",
       "      <th>0</th>\n",
       "      <td>us flags financial regulatory reforms</td>\n",
       "      <td>1.863391</td>\n",
       "    </tr>\n",
       "    <tr>\n",
       "      <th>1</th>\n",
       "      <td>the banking royal commissions recommendations</td>\n",
       "      <td>1.850401</td>\n",
       "    </tr>\n",
       "    <tr>\n",
       "      <th>2</th>\n",
       "      <td>what can we expect from the banking inquiry</td>\n",
       "      <td>1.841991</td>\n",
       "    </tr>\n",
       "    <tr>\n",
       "      <th>3</th>\n",
       "      <td>banking royal commission superannuation hearings</td>\n",
       "      <td>1.836119</td>\n",
       "    </tr>\n",
       "    <tr>\n",
       "      <th>4</th>\n",
       "      <td>banking royal commission anz financial advice clients interest</td>\n",
       "      <td>1.833776</td>\n",
       "    </tr>\n",
       "    <tr>\n",
       "      <th>5</th>\n",
       "      <td>rba considers cap on credit card surcharges</td>\n",
       "      <td>1.832314</td>\n",
       "    </tr>\n",
       "    <tr>\n",
       "      <th>6</th>\n",
       "      <td>rba on banks interest rate moves</td>\n",
       "      <td>1.831732</td>\n",
       "    </tr>\n",
       "    <tr>\n",
       "      <th>7</th>\n",
       "      <td>will changes to financial advice laws see the</td>\n",
       "      <td>1.831395</td>\n",
       "    </tr>\n",
       "    <tr>\n",
       "      <th>8</th>\n",
       "      <td>commonwealth bank responds to financial planning inquiry</td>\n",
       "      <td>1.831379</td>\n",
       "    </tr>\n",
       "    <tr>\n",
       "      <th>9</th>\n",
       "      <td>reserve bank financial stability review</td>\n",
       "      <td>1.830978</td>\n",
       "    </tr>\n",
       "  </tbody>\n",
       "</table>\n",
       "</div>"
      ],
      "text/plain": [
       "                                                    headline_text    _score\n",
       "0                           us flags financial regulatory reforms  1.863391\n",
       "1                   the banking royal commissions recommendations  1.850401\n",
       "2                     what can we expect from the banking inquiry  1.841991\n",
       "3                banking royal commission superannuation hearings  1.836119\n",
       "4  banking royal commission anz financial advice clients interest  1.833776\n",
       "5                     rba considers cap on credit card surcharges  1.832314\n",
       "6                                rba on banks interest rate moves  1.831732\n",
       "7                   will changes to financial advice laws see the  1.831395\n",
       "8        commonwealth bank responds to financial planning inquiry  1.831379\n",
       "9                         reserve bank financial stability review  1.830978"
      ]
     },
     "metadata": {},
     "output_type": "display_data"
    }
   ],
   "source": [
    "#query='virus threat'\n",
    "query='regulatory risk banking reform'\n",
    "print('KEYWORD SEARCH RESULTS')\n",
    "df0=et.search(query,'headline_text',type='match',embedder=embed_wrapper, size = 1000)\n",
    "display(select_search_results(df0))\n",
    "print('SEMANTIC SEARCH RESULTS')\n",
    "df1=et.search(query,'headline_text',type='dense',embedder=embed_wrapper, size = 1000)\n",
    "display(select_search_results(df1))\n",
    "\n"
   ]
  },
  {
   "cell_type": "markdown",
   "metadata": {},
   "source": [
    "# Speed comparison\n",
    "\n",
    "Below we perform some non-functional testing on the impact of size of index together with search parameters on time of the query.  \n",
    "We have tested with 3 index sizes: 1k (Tiny), 100k (Medium) & 1.1mn (Large). We have not paid particular attention to and sampling effects, meaning that for instance, the 1k index is simply the first 1000 headlines in the data, this might mean ti is not well randomized, which we have not studied"
   ]
  },
  {
   "cell_type": "code",
   "execution_count": 16,
   "metadata": {},
   "outputs": [
    {
     "name": "stderr",
     "output_type": "stream",
     "text": [
      "100%|██████████| 10/10 [11:17<00:00, 67.72s/it]\n"
     ]
    }
   ],
   "source": [
    "\n",
    "queries=['Amazon','news','security thread','tech news','new vaccine developed new cure','results game today all winners']\n",
    "result_sizes=[1,10,100]\n",
    "repeat=10\n",
    "\n",
    "col_names=['search index','search type','search size' , 'query', '# tokens query','repeat','time taken']\n",
    "search_to_compare={'dense':'Semantic Search','match':'Keyword Search'}\n",
    "indices_to_compare={'et-tiny':'Tiny','et-medium':'Medium','et-large':'Large'}\n",
    "\n",
    "res=[]\n",
    "for i in trange(repeat):\n",
    "    for index in indices_to_compare:\n",
    "        for search_type in search_to_compare:\n",
    "            for query in queries:\n",
    "                for size in result_sizes:\n",
    "                    t0=datetime.datetime.now()\n",
    "                    _ = et.search(query=query,\n",
    "                                  field='headline_text',\n",
    "                                  index_name=index,\n",
    "                                  type=search_type,\n",
    "                                  embedder=embed_wrapper, \n",
    "                                  size=size)\n",
    "                    t1=datetime.datetime.now()\n",
    "                    time_taken=(t1-t0).total_seconds()\n",
    "                    res.append([indices_to_compare[index], search_to_compare[search_type], size, query, len(query.split()), i,time_taken])\n",
    "                    \n",
    "result_df=pd.DataFrame(res, columns=col_names)\n",
    "result_df.to_csv('data/results_search.csv')\n"
   ]
  },
  {
   "cell_type": "markdown",
   "metadata": {},
   "source": [
    "Compare speed across different index sizes and search types for\n",
    "- query token length\n",
    "- result size\n",
    "- index size\n",
    "\n",
    "Results are below"
   ]
  },
  {
   "cell_type": "code",
   "execution_count": 17,
   "metadata": {},
   "outputs": [
    {
     "data": {
      "image/png": "[encoded data removed]",
      "text/plain": [
       "<Figure size 864x288 with 2 Axes>"
      ]
     },
     "metadata": {
      "needs_background": "light"
     },
     "output_type": "display_data"
    },
    {
     "data": {
      "image/png": "[encoded data removed]",
      "text/plain": [
       "<Figure size 864x288 with 2 Axes>"
      ]
     },
     "metadata": {
      "needs_background": "light"
     },
     "output_type": "display_data"
    }
   ],
   "source": [
    "compare='search size' #'# tokens query'\n",
    "compare='# tokens query'\n",
    "comparisons=['search size', '# tokens query']\n",
    "\n",
    "for compare in comparisons:\n",
    "    fig, axes = plt.subplots(nrows=1, ncols=len(search_to_compare), figsize=(12,4))\n",
    "    fig.suptitle(f'Comparing {compare}',size=18)\n",
    "    for (c,search_type) in enumerate(search_to_compare.values()):\n",
    "        pvt=pd.pivot_table(result_df[(result_df['search type']==search_type)&(result_df['repeat']>2)] \\\n",
    "                           [['search index',compare,'time taken']],\\\n",
    "                    values='time taken',\n",
    "                    index=compare,\n",
    "                    columns='search index',\n",
    "                    aggfunc='mean',\n",
    "                  )\n",
    "        pvt.plot.bar(title=search_type,ax=axes[c]) \n"
   ]
  },
  {
   "cell_type": "markdown",
   "metadata": {},
   "source": [
    "The below box plot analyzes the deviation in search times after multiple repeated calls. Although some deviations are observed, they do not seem to be significant. Only results from the Large index are shown"
   ]
  },
  {
   "cell_type": "code",
   "execution_count": 19,
   "metadata": {},
   "outputs": [
    {
     "data": {
      "text/plain": [
       "<AxesSubplot:>"
      ]
     },
     "execution_count": 19,
     "metadata": {},
     "output_type": "execute_result"
    },
    {
     "data": {
      "image/png": "[encoded data removed]",
      "text/plain": [
       "<Figure size 432x288 with 1 Axes>"
      ]
     },
     "metadata": {
      "needs_background": "light"
     },
     "output_type": "display_data"
    }
   ],
   "source": [
    "box_df=result_df[(result_df['search index']=='Large')].copy()\n",
    "pd.pivot_table(box_df[['search type','time taken','repeat']],\n",
    "               values='time taken',\n",
    "                    index='repeat',\n",
    "                    columns='search type',\n",
    "                    aggfunc='mean',).plot.box()"
   ]
  }
 ],
 "metadata": {
  "kernelspec": {
   "display_name": "Python [conda env:et2] *",
   "language": "python",
   "name": "conda-env-et2-py"
  },
  "language_info": {
   "codemirror_mode": {
    "name": "ipython",
    "version": 3
   },
   "file_extension": ".py",
   "mimetype": "text/x-python",
   "name": "python",
   "nbconvert_exporter": "python",
   "pygments_lexer": "ipython3",
   "version": "3.7.7"
  }
 },
 "nbformat": 4,
 "nbformat_minor": 4
}
